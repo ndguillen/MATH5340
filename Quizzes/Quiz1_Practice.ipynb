{
 "cells": [
  {
   "cell_type": "markdown",
   "id": "d3c95923",
   "metadata": {},
   "source": [
    "# Quiz 1 practice problems\n",
    "\n",
    "1. Consider the discontinuous function $f \\in L^2(0,1)$ defined by $$f(x) = \\left \\{ \\begin{array}{l} 1 \\text{ in } (0,1/2] \\\\0 \\text{ in } (1/2,1) \\end{array}\\right.$$ Compute $c_n(f)$ for every $n$ and show that $$ \\sum \\limits_{n \\in \\mathbb{Z}}|n|^{2s}|c_n|^2 = \\infty \\text{ if } s\\geq 1/2$$ _Hint_: The infinite series $\\sum \\limits_{n \\text{ odd}} n^{-r}$ is divergent anytime $r\\leq 1$.\n",
    "2. Show that for any polynomial of degree $n\\geq 1$ we have $$\\sup \\limits_{[-R,R]}|\\sin(x)-p(x)| \\to \\infty \\text{ as } R\\to\\infty$$ _Hint:_ If $p(x) = a_nx^n+\\ldots+a_1x_1+a_0$ with $n\\geq 1$ and $a_n \\neq 0$, show that $$ \\lim\\limits_{|x|\\to\\infty}|p(x)|=\\infty$$ by writing $p(x)$ for $x\\neq 0$ as $a_nx^n(1+(a_{n-1}/a_n)1/x+\\ldots+(a_0/a_n)1/x^n$\n",
    "3. For every $h>0$, define the kernel $$K_h(x) = \\left \\{\\begin{array}{ll} (2h)^{-1} & \\text{in } (-h,h) \\\\ 0 & \\text{elsewhere}  \\end{array}\\right.$$ Show that if $u:\\mathbb{R}\\to\\mathbb{R}$ is a continuous function that vanishes outside $[-1,1]$ then $u *K_h$ converges uniformly to $u$ in $[-1,1]$, and show for each $h>0$ the function $u*K_h$ has a continuous derivative at $x$ and it is equal to $\\frac{1}{2h}(u(x+h)-u(x-h))$. \n",
    "4. Suppose $f$ is a continuous function in $[0,1]$ such that for every polynomial $p$ we have $$\\int_0^1f(x)p(x)\\;dx = 0$$ Show that it must be that $f=0$ everywhere. _Hint_: Try to show that in this case it must be that $\\int_0^1|f(x)|^2\\;dx=0$.\n",
    "5. Consider an infinite sequence $(c_n)_{n\\in\\mathbb{Z}}$ such that there is some sequence $\\varepsilon_k$ ($k\\in \\mathbb{N}$ such that $\\varepsilon_k \\to 0$ as $k\\to \\infty$) such that for every $k$ $$ \\sum \\limits_{|n|>k} |n||c_n| \\leq \\varepsilon_k$$ Then, show that $$ \\|f-f_k\\|_\\infty \\leq \\varepsilon_k \\text{ and } \\|f'-f_k'\\|_\\infty \\leq \\varepsilon_k$$ where $f$ and $f_k$ are defined by $$f(x) = \\sum \\limits_{n\\in\\mathbb{Z}} c_ne^{2\\pi inx} \\text{ and } f_k(x) = \\sum \\limits_{|n|\\leq k} c_ne^{2\\pi inx}$$.\n",
    "6. A function $f:[0,1]\\to\\mathbb{R}$ is called Lipschitz continuous with Lipschitz constant $L$ if $$|f(x)-f(y)|\\leq L|x-y|\\;\\forall\\;x,y\\in[0,1]$$ Let $f_N$ be the piecewise linear approximation to $f$ with respect to the grid $\\{0,1/N,2/N,\\ldots,(N-1)/N,1\\}$. Show that if $f$ is Lipschitz continuous with constant $L$ then each function $f_N$ is also Lipschitz continuous with the same constant $L$.\n",
    "7. The Bernstein polynomials of degree $n$, denoted $b_{k,n}$, are defined by $$ b_{k,n}(x) = {n \\choose k} x^k(1-x)^{n-k},\\;k=0,1,\\ldots,n$$ They are known to satisfy the following properties $$ \\sum \\limits_{k=0}^n b_{k,n}(x) = 1 \\text{ and } \\sum \\limits_{k:|x-k/n|\\geq \\delta} b_{k,n}(x) \\leq (2\\delta)^{-2}n^{-1} \\;\\forall\\;x\\in[0,1]$$ Show that if $f:[0,1]\\to\\mathbb{R}$ is a continuous function, then the polynomials $$f_n(x) := \\sum\\limits_{k=0}^nf(k/n)b_{k,n}(x)$$ converge to $f$ uniformly over $[0,1]$ as $n\\to\\infty$. _Hint_: The arguments are a discrete version (i.e. sum instead of integral) of those you used in exercises 6,7, and 7 from Notebook 1."
   ]
  },
  {
   "cell_type": "code",
   "execution_count": null,
   "id": "20c686f0",
   "metadata": {},
   "outputs": [],
   "source": []
  }
 ],
 "metadata": {
  "kernelspec": {
   "display_name": "Python 3",
   "language": "python",
   "name": "python3"
  },
  "language_info": {
   "codemirror_mode": {
    "name": "ipython",
    "version": 3
   },
   "file_extension": ".py",
   "mimetype": "text/x-python",
   "name": "python",
   "nbconvert_exporter": "python",
   "pygments_lexer": "ipython3",
   "version": "3.8.8"
  }
 },
 "nbformat": 4,
 "nbformat_minor": 5
}
